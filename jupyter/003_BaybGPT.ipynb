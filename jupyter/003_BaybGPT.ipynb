{
 "cells": [
  {
   "cell_type": "code",
   "execution_count": 4,
   "id": "f0a4d9b6",
   "metadata": {},
   "outputs": [],
   "source": [
    "import sys\n",
    "sys.path.insert(0, '../')\n",
    "from Models.Transformer.GPTModel import GPTModel, GPTConfig"
   ]
  },
  {
   "cell_type": "code",
   "execution_count": 5,
   "id": "3799c084",
   "metadata": {},
   "outputs": [],
   "source": [
    "import torch\n",
    "import torch.nn as nn\n",
    "import math\n",
    "\n",
    "torch.manual_seed(1337)\n",
    "\n",
    "# context length is 3, so we take 3 bits to predict the next bit probability\n",
    "context_length = 3\n",
    "config = GPTConfig(\n",
    "    PosEmbedDim = context_length,\n",
    "    # vocab size is 2, so we only have two possible tokens: 0,1\n",
    "    VocabSize = 2,\n",
    "    BlockNum = 4,\n",
    "    HeadNum = 4,\n",
    "    EmbedDim = 16,\n",
    "    EnableBias = False,\n",
    ")\n",
    "gpt = GPTModel(config)\n",
    "#gpt.PrintNumParameters()\n",
    "#gpt.TraversePrintParameters()\n",
    "#gpt.TraversePrintModuleInfo()"
   ]
  },
  {
   "cell_type": "code",
   "execution_count": 6,
   "id": "21f24c58",
   "metadata": {},
   "outputs": [
    {
     "data": {
      "text/plain": [
       "[[0, 0, 0],\n",
       " [0, 0, 1],\n",
       " [0, 1, 0],\n",
       " [0, 1, 1],\n",
       " [1, 0, 0],\n",
       " [1, 0, 1],\n",
       " [1, 1, 0],\n",
       " [1, 1, 1]]"
      ]
     },
     "execution_count": 6,
     "metadata": {},
     "output_type": "execute_result"
    }
   ],
   "source": [
    "def all_possible(n, k):\n",
    "    # return all possible lists of k elements, each in range of [0,n)\n",
    "    if k == 0:\n",
    "        yield []\n",
    "    else:\n",
    "        for i in range(n):\n",
    "            for c in all_possible(n, k - 1):\n",
    "                yield [i] + c\n",
    "list(all_possible(config.VocabSize, config.PosEmbedDim))"
   ]
  },
  {
   "cell_type": "code",
   "execution_count": 10,
   "id": "c66b5ed1",
   "metadata": {},
   "outputs": [
    {
     "ename": "ModuleNotFoundError",
     "evalue": "No module named 'graphviz'",
     "output_type": "error",
     "traceback": [
      "\u001b[1;31m---------------------------------------------------------------------------\u001b[0m",
      "\u001b[1;31mModuleNotFoundError\u001b[0m                       Traceback (most recent call last)",
      "Cell \u001b[1;32mIn[10], line 3\u001b[0m\n\u001b[0;32m      1\u001b[0m \u001b[39mfrom\u001b[39;00m \u001b[39mtorch\u001b[39;00m\u001b[39m.\u001b[39;00m\u001b[39mnn\u001b[39;00m \u001b[39mimport\u001b[39;00m functional \u001b[39mas\u001b[39;00m F\n\u001b[1;32m----> 3\u001b[0m \u001b[39mfrom\u001b[39;00m \u001b[39mgraphviz\u001b[39;00m \u001b[39mimport\u001b[39;00m Digraph\n\u001b[0;32m      5\u001b[0m \u001b[39mdef\u001b[39;00m \u001b[39mplot_model\u001b[39m():\n\u001b[0;32m      6\u001b[0m     dot \u001b[39m=\u001b[39m Digraph(comment\u001b[39m=\u001b[39m\u001b[39m'\u001b[39m\u001b[39mBaby GPT\u001b[39m\u001b[39m'\u001b[39m, engine\u001b[39m=\u001b[39m\u001b[39m'\u001b[39m\u001b[39mcirco\u001b[39m\u001b[39m'\u001b[39m)\n",
      "\u001b[1;31mModuleNotFoundError\u001b[0m: No module named 'graphviz'"
     ]
    }
   ],
   "source": [
    "from torch.nn import functional as F\n",
    "\n",
    "from graphviz import Digraph\n",
    "\n",
    "def plot_model():\n",
    "    dot = Digraph(comment='Baby GPT', engine='circo')\n",
    "\n",
    "    for xi in all_possible(gpt.config.VocabSize, gpt.config.PosEmbedDim):\n",
    "        \n",
    "        # forward the GPT and get probabilities for next token\n",
    "        x = torch.tensor(xi, dtype=torch.long)[None, ...] # turn the list into a torch tensor and add a batch dimension\n",
    "        logits = gpt(x) # forward the gpt neural net\n",
    "        probs = F.softmax(logits, dim=-1) # get the probabilities\n",
    "        y = probs[0].tolist() # remove the batch dimension and unpack the tensor into simple list\n",
    "        print(f\"input {xi} ---> {y}\")\n",
    "\n",
    "        # also build up the transition graph for plotting later\n",
    "        current_node_signature = \"\".join(str(d) for d in xi)\n",
    "        dot.node(current_node_signature)\n",
    "        for t in range(gpt.config.VocabSize):\n",
    "            next_node = xi[1:] + [t] # crop the context and append the next character\n",
    "            next_node_signature = \"\".join(str(d) for d in next_node)\n",
    "            p = y[t]\n",
    "            label=f\"{t}({p*100:.0f}%)\"\n",
    "            dot.edge(current_node_signature, next_node_signature, label=label)\n",
    "    \n",
    "    return dot\n",
    "\n",
    "plot_model()"
   ]
  },
  {
   "cell_type": "code",
   "execution_count": null,
   "id": "e63eb132",
   "metadata": {},
   "outputs": [],
   "source": []
  }
 ],
 "metadata": {
  "kernelspec": {
   "display_name": "Python 3 (ipykernel)",
   "language": "python",
   "name": "python3"
  },
  "language_info": {
   "codemirror_mode": {
    "name": "ipython",
    "version": 3
   },
   "file_extension": ".py",
   "mimetype": "text/x-python",
   "name": "python",
   "nbconvert_exporter": "python",
   "pygments_lexer": "ipython3",
   "version": "3.10.0"
  }
 },
 "nbformat": 4,
 "nbformat_minor": 5
}
