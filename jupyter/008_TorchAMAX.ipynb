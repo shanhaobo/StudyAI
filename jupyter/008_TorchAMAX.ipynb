{
 "cells": [
  {
   "cell_type": "code",
   "execution_count": 1,
   "id": "650c0391",
   "metadata": {},
   "outputs": [],
   "source": [
    "import torch\n",
    "from torch import nn\n",
    "from torch.utils.data import DataLoader, Dataset"
   ]
  },
  {
   "cell_type": "code",
   "execution_count": 2,
   "id": "52855b37",
   "metadata": {},
   "outputs": [
    {
     "name": "stdout",
     "output_type": "stream",
     "text": [
      "tensor([[[ 6., 51., 52., 45., 38.],\n",
      "         [30.,  7., 40., 35., 41.],\n",
      "         [ 5., 31., 47., 53., 20.],\n",
      "         [21., 59., 16., 34., 19.]],\n",
      "\n",
      "        [[32., 48., 54., 14., 49.],\n",
      "         [37., 43., 18., 10., 58.],\n",
      "         [ 3., 26., 22., 55.,  4.],\n",
      "         [ 8., 17., 28., 57., 12.]],\n",
      "\n",
      "        [[36., 23., 42.,  0., 56.],\n",
      "         [33.,  9., 44., 39., 11.],\n",
      "         [29., 13., 46., 24.,  2.],\n",
      "         [50.,  1., 27., 15., 25.]]])\n"
     ]
    }
   ],
   "source": [
    "import torch\n",
    "\n",
    "# 创建一个包含0到59的列表\n",
    "values = list(range(60))\n",
    "\n",
    "# 生成一个长度为60的随机排列索引序列\n",
    "random_indices = torch.randperm(60)\n",
    "\n",
    "# 将序列重塑为 3x4x5 的形状\n",
    "random_indices = random_indices.reshape((3, 4, 5))\n",
    "\n",
    "# 创建一个形状为3x4x5的张量\n",
    "tensor = torch.zeros(3, 4, 5)\n",
    "\n",
    "# 使用随机索引填充张量的元素\n",
    "for i in range(3):\n",
    "    for j in range(4):\n",
    "        for k in range(5):\n",
    "            index = random_indices[i, j, k]\n",
    "            value = values[index]\n",
    "            tensor[i, j, k] = value\n",
    "\n",
    "# 打印张量\n",
    "print(tensor)"
   ]
  },
  {
   "cell_type": "code",
   "execution_count": 9,
   "id": "1bd3918c",
   "metadata": {},
   "outputs": [
    {
     "data": {
      "text/plain": [
       "(tensor([[ 6., 51., 52., 45., 38.],\n",
       "         [32., 48., 54., 14., 49.],\n",
       "         [36., 23., 42.,  0., 56.]]),\n",
       " tensor([[30.,  7., 40., 35., 41.],\n",
       "         [37., 43., 18., 10., 58.],\n",
       "         [33.,  9., 44., 39., 11.]]),\n",
       " tensor([[ 5., 31., 47., 53., 20.],\n",
       "         [ 3., 26., 22., 55.,  4.],\n",
       "         [29., 13., 46., 24.,  2.]]))"
      ]
     },
     "execution_count": 9,
     "metadata": {},
     "output_type": "execute_result"
    }
   ],
   "source": [
    "tensor[:, 0], tensor[:, 1], tensor[:, 2]"
   ]
  },
  {
   "cell_type": "code",
   "execution_count": 14,
   "id": "f18795b2",
   "metadata": {},
   "outputs": [
    {
     "data": {
      "text/plain": [
       "(tensor([[ 6., 51., 52., 45., 38.],\n",
       "         [30.,  7., 40., 35., 41.],\n",
       "         [ 5., 31., 47., 53., 20.],\n",
       "         [21., 59., 16., 34., 19.]]),\n",
       " tensor([[32., 48., 54., 14., 49.],\n",
       "         [37., 43., 18., 10., 58.],\n",
       "         [ 3., 26., 22., 55.,  4.],\n",
       "         [ 8., 17., 28., 57., 12.]]),\n",
       " tensor([[36., 23., 42.,  0., 56.],\n",
       "         [33.,  9., 44., 39., 11.],\n",
       "         [29., 13., 46., 24.,  2.],\n",
       "         [50.,  1., 27., 15., 25.]]))"
      ]
     },
     "execution_count": 14,
     "metadata": {},
     "output_type": "execute_result"
    }
   ],
   "source": [
    "tensor[0, :, :], tensor[1, :, :], tensor[2, :, :]"
   ]
  },
  {
   "cell_type": "code",
   "execution_count": 15,
   "id": "6d57baa8",
   "metadata": {},
   "outputs": [
    {
     "data": {
      "text/plain": [
       "(tensor([[ 6., 51., 52., 45., 38.],\n",
       "         [32., 48., 54., 14., 49.],\n",
       "         [36., 23., 42.,  0., 56.]]),\n",
       " tensor([[30.,  7., 40., 35., 41.],\n",
       "         [37., 43., 18., 10., 58.],\n",
       "         [33.,  9., 44., 39., 11.]]),\n",
       " tensor([[ 5., 31., 47., 53., 20.],\n",
       "         [ 3., 26., 22., 55.,  4.],\n",
       "         [29., 13., 46., 24.,  2.]]))"
      ]
     },
     "execution_count": 15,
     "metadata": {},
     "output_type": "execute_result"
    }
   ],
   "source": [
    "tensor[:, 0, :], tensor[:, 1, :], tensor[:, 2, :]"
   ]
  },
  {
   "cell_type": "code",
   "execution_count": 3,
   "id": "873221f2",
   "metadata": {},
   "outputs": [
    {
     "data": {
      "text/plain": [
       "tensor([[36., 51., 54., 45., 56.],\n",
       "        [37., 43., 44., 39., 58.],\n",
       "        [29., 31., 47., 55., 20.],\n",
       "        [50., 59., 28., 57., 25.]])"
      ]
     },
     "execution_count": 3,
     "metadata": {},
     "output_type": "execute_result"
    }
   ],
   "source": [
    "torch.amax(tensor, 0)"
   ]
  },
  {
   "cell_type": "code",
   "execution_count": 4,
   "id": "97812c6e",
   "metadata": {},
   "outputs": [
    {
     "data": {
      "text/plain": [
       "tensor([[30., 59., 52., 53., 41.],\n",
       "        [37., 48., 54., 57., 58.],\n",
       "        [50., 23., 46., 39., 56.]])"
      ]
     },
     "execution_count": 4,
     "metadata": {},
     "output_type": "execute_result"
    }
   ],
   "source": [
    "torch.amax(tensor, 1)"
   ]
  },
  {
   "cell_type": "code",
   "execution_count": 5,
   "id": "fdf4b7b4",
   "metadata": {},
   "outputs": [
    {
     "data": {
      "text/plain": [
       "tensor([[52., 41., 53., 59.],\n",
       "        [54., 58., 55., 57.],\n",
       "        [56., 44., 46., 50.]])"
      ]
     },
     "execution_count": 5,
     "metadata": {},
     "output_type": "execute_result"
    }
   ],
   "source": [
    "torch.amax(tensor, 2)"
   ]
  }
 ],
 "metadata": {
  "kernelspec": {
   "display_name": "Python 3 (ipykernel)",
   "language": "python",
   "name": "python3"
  },
  "language_info": {
   "codemirror_mode": {
    "name": "ipython",
    "version": 3
   },
   "file_extension": ".py",
   "mimetype": "text/x-python",
   "name": "python",
   "nbconvert_exporter": "python",
   "pygments_lexer": "ipython3",
   "version": "3.10.9"
  }
 },
 "nbformat": 4,
 "nbformat_minor": 5
}
