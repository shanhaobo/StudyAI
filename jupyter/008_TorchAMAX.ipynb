{
 "cells": [
  {
   "cell_type": "code",
   "execution_count": 1,
   "id": "650c0391",
   "metadata": {},
   "outputs": [],
   "source": [
    "import torch\n",
    "from torch import nn\n",
    "from torch.utils.data import DataLoader, Dataset"
   ]
  },
  {
   "cell_type": "code",
   "execution_count": 2,
   "id": "52855b37",
   "metadata": {},
   "outputs": [
    {
     "name": "stdout",
     "output_type": "stream",
     "text": [
      "tensor([[[ 4., 58.,  6.,  2., 23.],\n",
      "         [25., 39., 44., 13., 14.],\n",
      "         [ 0.,  8., 37., 24., 20.],\n",
      "         [57.,  3., 34., 33., 55.]],\n",
      "\n",
      "        [[43., 40., 12., 48., 29.],\n",
      "         [46., 10., 31., 16., 51.],\n",
      "         [38., 26., 17., 15., 56.],\n",
      "         [22., 35., 52., 36., 42.]],\n",
      "\n",
      "        [[47., 28.,  5., 41., 27.],\n",
      "         [50.,  7., 18., 45., 53.],\n",
      "         [54.,  9., 59., 32., 49.],\n",
      "         [ 1., 19., 11., 21., 30.]]])\n"
     ]
    }
   ],
   "source": [
    "import torch\n",
    "\n",
    "# 创建一个包含0到59的列表\n",
    "values = list(range(60))\n",
    "\n",
    "# 生成一个长度为60的随机排列索引序列\n",
    "random_indices = torch.randperm(60)\n",
    "\n",
    "# 将序列重塑为 3x4x5 的形状\n",
    "random_indices = random_indices.reshape((3, 4, 5))\n",
    "\n",
    "# 创建一个形状为3x4x5的张量\n",
    "tensor = torch.zeros(3, 4, 5)\n",
    "\n",
    "# 使用随机索引填充张量的元素\n",
    "for i in range(3):\n",
    "    for j in range(4):\n",
    "        for k in range(5):\n",
    "            index = random_indices[i, j, k]\n",
    "            value = values[index]\n",
    "            tensor[i, j, k] = value\n",
    "\n",
    "# 打印张量\n",
    "print(tensor)"
   ]
  },
  {
   "cell_type": "code",
   "execution_count": null,
   "id": "873221f2",
   "metadata": {},
   "outputs": [],
   "source": [
    "torch.amax(tensor, 0)"
   ]
  },
  {
   "cell_type": "code",
   "execution_count": null,
   "id": "97812c6e",
   "metadata": {},
   "outputs": [],
   "source": [
    "torch.amax(tensor, 1)"
   ]
  },
  {
   "cell_type": "code",
   "execution_count": null,
   "id": "fdf4b7b4",
   "metadata": {},
   "outputs": [],
   "source": [
    "torch.amax(tensor, 2)"
   ]
  }
 ],
 "metadata": {
  "kernelspec": {
   "display_name": "Python 3 (ipykernel)",
   "language": "python",
   "name": "python3"
  },
  "language_info": {
   "codemirror_mode": {
    "name": "ipython",
    "version": 3
   },
   "file_extension": ".py",
   "mimetype": "text/x-python",
   "name": "python",
   "nbconvert_exporter": "python",
   "pygments_lexer": "ipython3",
   "version": "3.10.0"
  }
 },
 "nbformat": 4,
 "nbformat_minor": 5
}
