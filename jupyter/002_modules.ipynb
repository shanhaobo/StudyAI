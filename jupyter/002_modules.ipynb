{
 "cells": [
  {
   "cell_type": "code",
   "execution_count": 3,
   "id": "6b114a7d",
   "metadata": {},
   "outputs": [
    {
     "name": "stdout",
     "output_type": "stream",
     "text": [
      "Using named_modules():\n",
      ": <class '__main__.ExampleModel'>\n",
      "layer1: <class 'torch.nn.modules.linear.Linear'>\n",
      "layer2: <class '__main__.NestedLayer'>\n",
      "layer2.layer1: <class 'torch.nn.modules.linear.Linear'>\n",
      "layer2.layer2: <class 'torch.nn.modules.activation.ReLU'>\n",
      "layer3: <class 'torch.nn.modules.linear.Linear'>\n",
      "\n",
      "Using modules():\n",
      "<class '__main__.ExampleModel'>\n",
      "<class 'torch.nn.modules.linear.Linear'>\n",
      "<class '__main__.NestedLayer'>\n",
      "<class 'torch.nn.modules.linear.Linear'>\n",
      "<class 'torch.nn.modules.activation.ReLU'>\n",
      "<class 'torch.nn.modules.linear.Linear'>\n",
      "\n",
      "Using named_parameters():\n",
      "layer1.weight: <class 'torch.nn.parameter.Parameter'>\n",
      "layer1.bias: <class 'torch.nn.parameter.Parameter'>\n",
      "layer2.layer1.weight: <class 'torch.nn.parameter.Parameter'>\n",
      "layer2.layer1.bias: <class 'torch.nn.parameter.Parameter'>\n",
      "layer3.weight: <class 'torch.nn.parameter.Parameter'>\n",
      "layer3.bias: <class 'torch.nn.parameter.Parameter'>\n"
     ]
    }
   ],
   "source": [
    "import torch\n",
    "import torch.nn as nn\n",
    "\n",
    "class NestedLayer(nn.Module):\n",
    "    def __init__(self):\n",
    "        super().__init__()\n",
    "        self.layer1 = nn.Linear(3, 4)\n",
    "        self.layer2 = nn.ReLU()\n",
    "\n",
    "    def forward(self, x):\n",
    "        x = self.layer1(x)\n",
    "        x = self.layer2(x)\n",
    "        return x\n",
    "\n",
    "class ExampleModel(nn.Module):\n",
    "    def __init__(self):\n",
    "        super().__init__()\n",
    "        self.layer1 = nn.Linear(2, 3)\n",
    "        self.layer2 = NestedLayer()\n",
    "        self.layer3 = nn.Linear(4, 1)\n",
    "\n",
    "    def forward(self, x):\n",
    "        x = self.layer1(x)\n",
    "        x = self.layer2(x)\n",
    "        x = self.layer3(x)\n",
    "        return x\n",
    "\n",
    "model = ExampleModel()\n",
    "\n",
    "# 使用named_modules()遍历所有层，并打印层的名称和类型\n",
    "print(\"Using named_modules():\")\n",
    "for name, layer in model.named_modules():\n",
    "    print(f\"{name}: {type(layer)}\")\n",
    "\n",
    "# 使用modules()遍历所有层，并仅打印层的类型\n",
    "print(\"\\nUsing modules():\")\n",
    "for layer in model.modules():\n",
    "    print(type(layer))\n",
    "\n",
    "print(\"\\nUsing named_parameters():\")\n",
    "for name, param in model.named_parameters():\n",
    "    print(f\"{name}: {type(param)}\")"
   ]
  }
 ],
 "metadata": {
  "kernelspec": {
   "display_name": "Python 3 (ipykernel)",
   "language": "python",
   "name": "python3"
  },
  "language_info": {
   "codemirror_mode": {
    "name": "ipython",
    "version": 3
   },
   "file_extension": ".py",
   "mimetype": "text/x-python",
   "name": "python",
   "nbconvert_exporter": "python",
   "pygments_lexer": "ipython3",
   "version": "3.10.9"
  }
 },
 "nbformat": 4,
 "nbformat_minor": 5
}
