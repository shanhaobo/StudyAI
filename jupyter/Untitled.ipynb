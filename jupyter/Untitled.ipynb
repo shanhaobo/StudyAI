{
 "cells": [
  {
   "cell_type": "code",
   "execution_count": 1,
   "id": "650c0391",
   "metadata": {},
   "outputs": [],
   "source": [
    "import torch\n",
    "from torch import nn\n",
    "from torch.utils.data import DataLoader, Dataset"
   ]
  },
  {
   "cell_type": "code",
   "execution_count": 2,
   "id": "52855b37",
   "metadata": {},
   "outputs": [
    {
     "data": {
      "text/plain": [
       "tensor([[ 0.7246,  1.3106,  0.5008],\n",
       "        [ 0.0804, -0.7263, -0.1194],\n",
       "        [-0.6590, -0.5450, -1.4625],\n",
       "        [-0.9220,  0.3738,  0.4873],\n",
       "        [ 0.8063,  1.0878, -0.2496],\n",
       "        [ 1.5929,  1.2773, -0.0718],\n",
       "        [-0.1430, -1.4336,  0.8565],\n",
       "        [-0.4121, -1.9725,  0.0283],\n",
       "        [ 0.0403, -0.3110, -0.5745],\n",
       "        [ 0.2842, -0.4061,  0.8972]])"
      ]
     },
     "execution_count": 2,
     "metadata": {},
     "output_type": "execute_result"
    }
   ],
   "source": [
    "x = torch.randn(10, 3)\n",
    "x"
   ]
  },
  {
   "cell_type": "code",
   "execution_count": 3,
   "id": "873221f2",
   "metadata": {},
   "outputs": [
    {
     "data": {
      "text/plain": [
       "torch.Size([10, 3])"
      ]
     },
     "execution_count": 3,
     "metadata": {},
     "output_type": "execute_result"
    }
   ],
   "source": [
    "x.size()"
   ]
  },
  {
   "cell_type": "code",
   "execution_count": 4,
   "id": "97812c6e",
   "metadata": {},
   "outputs": [
    {
     "data": {
      "text/plain": [
       "tensor([0.7246, 1.3106, 0.5008])"
      ]
     },
     "execution_count": 4,
     "metadata": {},
     "output_type": "execute_result"
    }
   ],
   "source": [
    "x[0]"
   ]
  },
  {
   "cell_type": "code",
   "execution_count": 5,
   "id": "fdf4b7b4",
   "metadata": {},
   "outputs": [
    {
     "data": {
      "text/plain": [
       "torch.Size([3])"
      ]
     },
     "execution_count": 5,
     "metadata": {},
     "output_type": "execute_result"
    }
   ],
   "source": [
    "x[0].size()"
   ]
  },
  {
   "cell_type": "code",
   "execution_count": null,
   "id": "3f13ec13",
   "metadata": {},
   "outputs": [],
   "source": [
    "a = torch.FloatTensor(1).uniform_(0, 2**32)\n",
    "b = torch.FloatTensor(1).uniform_(0, 2**32)\n",
    "c = "
   ]
  }
 ],
 "metadata": {
  "kernelspec": {
   "display_name": "Python 3 (ipykernel)",
   "language": "python",
   "name": "python3"
  },
  "language_info": {
   "codemirror_mode": {
    "name": "ipython",
    "version": 3
   },
   "file_extension": ".py",
   "mimetype": "text/x-python",
   "name": "python",
   "nbconvert_exporter": "python",
   "pygments_lexer": "ipython3",
   "version": "3.10.9"
  }
 },
 "nbformat": 4,
 "nbformat_minor": 5
}
