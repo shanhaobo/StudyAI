{
 "cells": [
  {
   "cell_type": "code",
   "execution_count": 1,
   "id": "650c0391",
   "metadata": {},
   "outputs": [],
   "source": [
    "import torch\n",
    "from torch import nn\n",
    "from torch.utils.data import DataLoader, Dataset"
   ]
  },
  {
   "cell_type": "code",
   "execution_count": 2,
   "id": "9158883c",
   "metadata": {},
   "outputs": [
    {
     "name": "stdout",
     "output_type": "stream",
     "text": [
      "tensor([[[0., 0., 0., 0., 0.],\n",
      "         [0., 0., 0., 0., 0.],\n",
      "         [0., 0., 0., 0., 0.],\n",
      "         [0., 0., 0., 0., 0.]],\n",
      "\n",
      "        [[0., 0., 0., 0., 0.],\n",
      "         [0., 0., 0., 0., 0.],\n",
      "         [0., 0., 0., 0., 0.],\n",
      "         [0., 0., 0., 0., 0.]],\n",
      "\n",
      "        [[0., 0., 0., 0., 0.],\n",
      "         [0., 0., 0., 0., 0.],\n",
      "         [0., 0., 0., 0., 0.],\n",
      "         [0., 0., 0., 0., 0.]]])\n"
     ]
    }
   ],
   "source": [
    "# 创建一个 3x4x5 的张量\n",
    "tensor = torch.zeros(3, 4, 5)\n",
    "\n",
    "# 生成一个长度为60的随机排列索引序列\n",
    "random_indices = torch.randperm(60)\n",
    "\n",
    "# 将序列重塑为 3x4x5 的形状\n",
    "random_indices = random_indices.reshape((3, 4, 5))\n",
    "\n",
    "# 根据随机索引重新排列张量的元素\n",
    "tensor = tensor.flatten()[random_indices.flatten()].reshape((3, 4, 5))\n",
    "\n",
    "# 打印张量\n",
    "print(tensor)"
   ]
  },
  {
   "cell_type": "code",
   "execution_count": 3,
   "id": "52855b37",
   "metadata": {},
   "outputs": [
    {
     "name": "stdout",
     "output_type": "stream",
     "text": [
      "tensor([[[56., 45., 27., 26.,  4.],\n",
      "         [18., 40., 17.,  8., 42.],\n",
      "         [19., 44., 31., 22., 24.],\n",
      "         [34., 53.,  1., 30., 36.]],\n",
      "\n",
      "        [[58., 37., 14., 51., 13.],\n",
      "         [35., 20., 52., 46., 23.],\n",
      "         [ 9.,  7., 39., 12.,  0.],\n",
      "         [ 5., 43., 33., 59., 28.]],\n",
      "\n",
      "        [[15., 54., 25.,  2., 21.],\n",
      "         [48., 32., 38., 16., 50.],\n",
      "         [47., 11., 10., 55., 29.],\n",
      "         [41.,  3., 49., 57.,  6.]]])\n"
     ]
    }
   ],
   "source": [
    "import torch\n",
    "\n",
    "# 创建一个包含0到59的列表\n",
    "values = list(range(60))\n",
    "\n",
    "# 生成一个长度为60的随机排列索引序列\n",
    "random_indices = torch.randperm(60)\n",
    "\n",
    "# 将序列重塑为 3x4x5 的形状\n",
    "random_indices = random_indices.reshape((3, 4, 5))\n",
    "\n",
    "# 创建一个形状为3x4x5的张量\n",
    "tensor = torch.zeros(3, 4, 5)\n",
    "\n",
    "# 使用随机索引填充张量的元素\n",
    "for i in range(3):\n",
    "    for j in range(4):\n",
    "        for k in range(5):\n",
    "            index = random_indices[i, j, k]\n",
    "            value = values[index]\n",
    "            tensor[i, j, k] = value\n",
    "\n",
    "# 打印张量\n",
    "print(tensor)"
   ]
  },
  {
   "cell_type": "code",
   "execution_count": 5,
   "id": "873221f2",
   "metadata": {},
   "outputs": [
    {
     "data": {
      "text/plain": [
       "tensor([[58., 54., 27., 51., 21.],\n",
       "        [48., 40., 52., 46., 50.],\n",
       "        [47., 44., 39., 55., 29.],\n",
       "        [41., 53., 49., 59., 36.]])"
      ]
     },
     "execution_count": 5,
     "metadata": {},
     "output_type": "execute_result"
    }
   ],
   "source": [
    "torch.amax(tensor, 0)"
   ]
  },
  {
   "cell_type": "code",
   "execution_count": 6,
   "id": "97812c6e",
   "metadata": {},
   "outputs": [
    {
     "data": {
      "text/plain": [
       "tensor([[56., 53., 31., 30., 42.],\n",
       "        [58., 43., 52., 59., 28.],\n",
       "        [48., 54., 49., 57., 50.]])"
      ]
     },
     "execution_count": 6,
     "metadata": {},
     "output_type": "execute_result"
    }
   ],
   "source": [
    "torch.amax(tensor, 1)"
   ]
  },
  {
   "cell_type": "code",
   "execution_count": 7,
   "id": "fdf4b7b4",
   "metadata": {},
   "outputs": [
    {
     "data": {
      "text/plain": [
       "tensor([[56., 42., 44., 53.],\n",
       "        [58., 52., 39., 59.],\n",
       "        [54., 50., 55., 57.]])"
      ]
     },
     "execution_count": 7,
     "metadata": {},
     "output_type": "execute_result"
    }
   ],
   "source": [
    "torch.amax(tensor, 2)"
   ]
  },
  {
   "cell_type": "code",
   "execution_count": 6,
   "id": "3f13ec13",
   "metadata": {},
   "outputs": [
    {
     "data": {
      "text/plain": [
       "(tensor([2.7132e+09]), tensor([2.8212e+09]))"
      ]
     },
     "execution_count": 6,
     "metadata": {},
     "output_type": "execute_result"
    }
   ],
   "source": [
    "a = torch.FloatTensor(1).uniform_(0, 2**32)\n",
    "b = torch.FloatTensor(1).uniform_(0, 2**32)\n",
    "a, b"
   ]
  },
  {
   "cell_type": "code",
   "execution_count": 7,
   "id": "582775db",
   "metadata": {},
   "outputs": [
    {
     "name": "stdout",
     "output_type": "stream",
     "text": [
      "tensor([0, 1, 2, 0, 2])\n",
      "tensor([[1, 0, 0],\n",
      "        [0, 1, 0],\n",
      "        [0, 0, 1],\n",
      "        [1, 0, 0],\n",
      "        [0, 0, 1]])\n"
     ]
    }
   ],
   "source": [
    "# 原始的分类变量\n",
    "categories = ['红色', '蓝色', '绿色', '红色', '绿色']\n",
    "\n",
    "# 创建一个张量表示分类变量\n",
    "tensor = torch.tensor([categories.index(category) for category in categories])\n",
    "\n",
    "# 进行One-hot编码\n",
    "one_hot = torch.nn.functional.one_hot(tensor)\n",
    "\n",
    "print(tensor)\n",
    "print(one_hot)"
   ]
  },
  {
   "cell_type": "code",
   "execution_count": 9,
   "id": "02ad2b5b",
   "metadata": {},
   "outputs": [
    {
     "data": {
      "text/plain": [
       "[0, 1, 2, 0, 2]"
      ]
     },
     "execution_count": 9,
     "metadata": {},
     "output_type": "execute_result"
    }
   ],
   "source": [
    "c = [categories.index(category) for category in categories]\n",
    "c"
   ]
  },
  {
   "cell_type": "code",
   "execution_count": 10,
   "id": "e338e66a",
   "metadata": {},
   "outputs": [
    {
     "ename": "AttributeError",
     "evalue": "'list' object has no attribute 'indexs'",
     "output_type": "error",
     "traceback": [
      "\u001b[1;31m---------------------------------------------------------------------------\u001b[0m",
      "\u001b[1;31mAttributeError\u001b[0m                            Traceback (most recent call last)",
      "Cell \u001b[1;32mIn[10], line 1\u001b[0m\n\u001b[1;32m----> 1\u001b[0m \u001b[43mcategories\u001b[49m\u001b[38;5;241;43m.\u001b[39;49m\u001b[43mindexs\u001b[49m\n",
      "\u001b[1;31mAttributeError\u001b[0m: 'list' object has no attribute 'indexs'"
     ]
    }
   ],
   "source": []
  },
  {
   "cell_type": "code",
   "execution_count": null,
   "id": "3c0e2665",
   "metadata": {},
   "outputs": [],
   "source": []
  }
 ],
 "metadata": {
  "kernelspec": {
   "display_name": "Python 3 (ipykernel)",
   "language": "python",
   "name": "python3"
  },
  "language_info": {
   "codemirror_mode": {
    "name": "ipython",
    "version": 3
   },
   "file_extension": ".py",
   "mimetype": "text/x-python",
   "name": "python",
   "nbconvert_exporter": "python",
   "pygments_lexer": "ipython3",
   "version": "3.10.9"
  }
 },
 "nbformat": 4,
 "nbformat_minor": 5
}
