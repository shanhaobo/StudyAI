{
 "cells": [
  {
   "cell_type": "code",
   "execution_count": 1,
   "id": "b4648d2f",
   "metadata": {},
   "outputs": [],
   "source": [
    "import torch"
   ]
  },
  {
   "cell_type": "code",
   "execution_count": 43,
   "id": "14cdf10c",
   "metadata": {},
   "outputs": [
    {
     "name": "stdout",
     "output_type": "stream",
     "text": [
      "x:torch.Size([3, 4])  \n",
      "y:torch.Size([3, 4])\n",
      "torch.Size([6, 4])\n"
     ]
    },
    {
     "data": {
      "text/plain": [
       "torch.Size([3, 8])"
      ]
     },
     "execution_count": 43,
     "metadata": {},
     "output_type": "execute_result"
    }
   ],
   "source": [
    "x = torch.randn((3, 4))\n",
    "y = torch.randn((3, 4))\n",
    "print(\"x:{}  \\ny:{}\".format(x.size(), y.size()))\n",
    "z0 = torch.cat((x, y), dim=0)\n",
    "print(z0.size())\n",
    "z1 = torch.cat((x, y), dim=1)\n",
    "z1.size()"
   ]
  },
  {
   "cell_type": "code",
   "execution_count": 36,
   "id": "a8c46b94",
   "metadata": {},
   "outputs": [],
   "source": [
    "import einops\n",
    "from functools import partial"
   ]
  },
  {
   "cell_type": "code",
   "execution_count": 4,
   "id": "09754b32",
   "metadata": {},
   "outputs": [
    {
     "data": {
      "text/plain": [
       "tensor([  1,   2,   6,  24, 120, 720])"
      ]
     },
     "execution_count": 4,
     "metadata": {},
     "output_type": "execute_result"
    }
   ],
   "source": [
    "cp = torch.cumprod(x, axis=0)\n",
    "cp"
   ]
  },
  {
   "cell_type": "code",
   "execution_count": 3,
   "id": "f358d189",
   "metadata": {},
   "outputs": [],
   "source": [
    "init_dim = 32\n",
    "ImageSize = 128\n",
    "dim_mults=[1, 2, 4, 8]\n",
    "\n",
    "dims = [init_dim, *map(lambda m: ImageSize * m, dim_mults)]\n",
    "in_out = list(zip(dims[:-1], dims[1:]))"
   ]
  },
  {
   "cell_type": "code",
   "execution_count": 4,
   "id": "a84f720b",
   "metadata": {},
   "outputs": [
    {
     "data": {
      "text/plain": [
       "[(32, 128), (128, 256), (256, 512), (512, 1024)]"
      ]
     },
     "execution_count": 4,
     "metadata": {},
     "output_type": "execute_result"
    }
   ],
   "source": [
    "in_out"
   ]
  },
  {
   "cell_type": "code",
   "execution_count": 5,
   "id": "e7635949",
   "metadata": {},
   "outputs": [
    {
     "data": {
      "text/plain": [
       "[32, 128, 256, 512, 1024]"
      ]
     },
     "execution_count": 5,
     "metadata": {},
     "output_type": "execute_result"
    }
   ],
   "source": [
    "dims"
   ]
  },
  {
   "cell_type": "code",
   "execution_count": 10,
   "id": "7a7087d1",
   "metadata": {},
   "outputs": [
    {
     "data": {
      "text/plain": [
       "[128, 256, 512, 1024]"
      ]
     },
     "execution_count": 10,
     "metadata": {},
     "output_type": "execute_result"
    }
   ],
   "source": [
    "new_list = [ImageSize * m for m in dim_mults]\n",
    "new_list"
   ]
  },
  {
   "cell_type": "code",
   "execution_count": 12,
   "id": "1cf2567e",
   "metadata": {},
   "outputs": [],
   "source": [
    "y = [2, *new_list]"
   ]
  },
  {
   "cell_type": "code",
   "execution_count": 13,
   "id": "6b8a14b2",
   "metadata": {},
   "outputs": [
    {
     "data": {
      "text/plain": [
       "[2, 128, 256, 512, 1024]"
      ]
     },
     "execution_count": 13,
     "metadata": {},
     "output_type": "execute_result"
    }
   ],
   "source": [
    "y"
   ]
  },
  {
   "cell_type": "code",
   "execution_count": 14,
   "id": "1da9ae7e",
   "metadata": {},
   "outputs": [],
   "source": [
    "newdims = [init_dim, *(ImageSize * m for m in dim_mults)]"
   ]
  },
  {
   "cell_type": "code",
   "execution_count": 15,
   "id": "625679c0",
   "metadata": {},
   "outputs": [
    {
     "data": {
      "text/plain": [
       "[32, 128, 256, 512, 1024]"
      ]
     },
     "execution_count": 15,
     "metadata": {},
     "output_type": "execute_result"
    }
   ],
   "source": [
    "newdims"
   ]
  },
  {
   "cell_type": "code",
   "execution_count": 16,
   "id": "87047144",
   "metadata": {},
   "outputs": [
    {
     "data": {
      "text/plain": [
       "([32, 128, 256, 512], [128, 256, 512, 1024])"
      ]
     },
     "execution_count": 16,
     "metadata": {},
     "output_type": "execute_result"
    }
   ],
   "source": [
    "newdims[:-1], newdims[1:]"
   ]
  },
  {
   "cell_type": "code",
   "execution_count": 28,
   "id": "c2b4b8cb",
   "metadata": {},
   "outputs": [
    {
     "data": {
      "text/plain": [
       "torch.Size([2, 3, 3])"
      ]
     },
     "execution_count": 28,
     "metadata": {},
     "output_type": "execute_result"
    }
   ],
   "source": [
    "weight = torch.tensor([\n",
    "    [[1, 2, 3], [4, 5, 6], [7, 8, 9]],\n",
    "    [[10, 11, 12], [13, 14, 15], [16, 17, 18]]\n",
    "])\n",
    "weight.size()"
   ]
  },
  {
   "cell_type": "code",
   "execution_count": 32,
   "id": "1b5f5639",
   "metadata": {},
   "outputs": [
    {
     "data": {
      "text/plain": [
       "(tensor([[[[ 5.]]],\n",
       " \n",
       " \n",
       "         [[[14.]]]]),\n",
       " torch.Size([2, 1, 1, 1]))"
      ]
     },
     "execution_count": 32,
     "metadata": {},
     "output_type": "execute_result"
    }
   ],
   "source": [
    "mean = einops.reduce(weight.float(), \"x ... -> x 1 1 1\", \"mean\")\n",
    "mean, mean.size()"
   ]
  },
  {
   "cell_type": "code",
   "execution_count": 33,
   "id": "f223e9db",
   "metadata": {},
   "outputs": [
    {
     "data": {
      "text/plain": [
       "tensor([[[[ -4.,  -3.,  -2.],\n",
       "          [ -1.,   0.,   1.],\n",
       "          [  2.,   3.,   4.]],\n",
       "\n",
       "         [[  5.,   6.,   7.],\n",
       "          [  8.,   9.,  10.],\n",
       "          [ 11.,  12.,  13.]]],\n",
       "\n",
       "\n",
       "        [[[-13., -12., -11.],\n",
       "          [-10.,  -9.,  -8.],\n",
       "          [ -7.,  -6.,  -5.]],\n",
       "\n",
       "         [[ -4.,  -3.,  -2.],\n",
       "          [ -1.,   0.,   1.],\n",
       "          [  2.,   3.,   4.]]]])"
      ]
     },
     "execution_count": 33,
     "metadata": {},
     "output_type": "execute_result"
    }
   ],
   "source": [
    "nx = weight - mean\n",
    "nx"
   ]
  },
  {
   "cell_type": "code",
   "execution_count": 38,
   "id": "0d0aa52d",
   "metadata": {},
   "outputs": [
    {
     "data": {
      "text/plain": [
       "tensor([[[[6.6667]]],\n",
       "\n",
       "\n",
       "        [[[6.6667]]]])"
      ]
     },
     "execution_count": 38,
     "metadata": {},
     "output_type": "execute_result"
    }
   ],
   "source": [
    "var = einops.reduce(weight.float(), \"o ... -> o 1 1 1\", partial(torch.var, unbiased=False))\n",
    "var"
   ]
  },
  {
   "cell_type": "code",
   "execution_count": 34,
   "id": "2ae76d3c",
   "metadata": {},
   "outputs": [
    {
     "data": {
      "text/plain": [
       "(tensor([[[[1., 1., 1., 1.],\n",
       "           [1., 1., 1., 1.],\n",
       "           [1., 1., 1., 1.]],\n",
       " \n",
       "          [[1., 1., 1., 1.],\n",
       "           [1., 1., 1., 1.],\n",
       "           [1., 1., 1., 1.]]],\n",
       " \n",
       " \n",
       "         [[[1., 1., 1., 1.],\n",
       "           [1., 1., 1., 1.],\n",
       "           [1., 1., 1., 1.]],\n",
       " \n",
       "          [[1., 1., 1., 1.],\n",
       "           [1., 1., 1., 1.],\n",
       "           [1., 1., 1., 1.]]]]),\n",
       " tensor([[2., 2.],\n",
       "         [2., 2.]]))"
      ]
     },
     "execution_count": 34,
     "metadata": {},
     "output_type": "execute_result"
    }
   ],
   "source": [
    "x = torch.ones((2, 2, 3, 4))\n",
    "y = torch.ones((2, 2)) * 2\n",
    "x, y"
   ]
  },
  {
   "cell_type": "code",
   "execution_count": 19,
   "id": "a8fea6d5",
   "metadata": {},
   "outputs": [
    {
     "data": {
      "text/plain": [
       "tensor([[[[3., 3., 3., 3.],\n",
       "          [3., 3., 3., 3.],\n",
       "          [3., 3., 3., 3.]],\n",
       "\n",
       "         [[3., 3., 3., 3.],\n",
       "          [3., 3., 3., 3.],\n",
       "          [3., 3., 3., 3.]]],\n",
       "\n",
       "\n",
       "        [[[3., 3., 3., 3.],\n",
       "          [3., 3., 3., 3.],\n",
       "          [3., 3., 3., 3.]],\n",
       "\n",
       "         [[3., 3., 3., 3.],\n",
       "          [3., 3., 3., 3.],\n",
       "          [3., 3., 3., 3.]]]])"
      ]
     },
     "execution_count": 19,
     "metadata": {},
     "output_type": "execute_result"
    }
   ],
   "source": [
    "z = torch.ones((2, 2, 3, 4)) * 3\n",
    "z"
   ]
  },
  {
   "cell_type": "code",
   "execution_count": 8,
   "id": "85ae961d",
   "metadata": {},
   "outputs": [
    {
     "data": {
      "text/plain": [
       "tensor([[[[4., 4., 4., 4.],\n",
       "          [4., 4., 4., 4.],\n",
       "          [4., 4., 4., 4.]],\n",
       "\n",
       "         [[4., 4., 4., 4.],\n",
       "          [4., 4., 4., 4.],\n",
       "          [4., 4., 4., 4.]]],\n",
       "\n",
       "\n",
       "        [[[4., 4., 4., 4.],\n",
       "          [4., 4., 4., 4.],\n",
       "          [4., 4., 4., 4.]],\n",
       "\n",
       "         [[4., 4., 4., 4.],\n",
       "          [4., 4., 4., 4.],\n",
       "          [4., 4., 4., 4.]]]])"
      ]
     },
     "execution_count": 8,
     "metadata": {},
     "output_type": "execute_result"
    }
   ],
   "source": [
    "x + z"
   ]
  },
  {
   "cell_type": "code",
   "execution_count": 21,
   "id": "8703f24a",
   "metadata": {},
   "outputs": [
    {
     "data": {
      "text/plain": [
       "(torch.Size([4, 2, 3, 4]),\n",
       " tensor([[[[1., 1., 1., 1.],\n",
       "           [1., 1., 1., 1.],\n",
       "           [1., 1., 1., 1.]],\n",
       " \n",
       "          [[1., 1., 1., 1.],\n",
       "           [1., 1., 1., 1.],\n",
       "           [1., 1., 1., 1.]]],\n",
       " \n",
       " \n",
       "         [[[1., 1., 1., 1.],\n",
       "           [1., 1., 1., 1.],\n",
       "           [1., 1., 1., 1.]],\n",
       " \n",
       "          [[1., 1., 1., 1.],\n",
       "           [1., 1., 1., 1.],\n",
       "           [1., 1., 1., 1.]]],\n",
       " \n",
       " \n",
       "         [[[3., 3., 3., 3.],\n",
       "           [3., 3., 3., 3.],\n",
       "           [3., 3., 3., 3.]],\n",
       " \n",
       "          [[3., 3., 3., 3.],\n",
       "           [3., 3., 3., 3.],\n",
       "           [3., 3., 3., 3.]]],\n",
       " \n",
       " \n",
       "         [[[3., 3., 3., 3.],\n",
       "           [3., 3., 3., 3.],\n",
       "           [3., 3., 3., 3.]],\n",
       " \n",
       "          [[3., 3., 3., 3.],\n",
       "           [3., 3., 3., 3.],\n",
       "           [3., 3., 3., 3.]]]]))"
      ]
     },
     "execution_count": 21,
     "metadata": {},
     "output_type": "execute_result"
    }
   ],
   "source": [
    "c0 = torch.cat((x, z), dim=0)\n",
    "c0.shape,c0"
   ]
  },
  {
   "cell_type": "code",
   "execution_count": 22,
   "id": "a0546ca5",
   "metadata": {},
   "outputs": [
    {
     "data": {
      "text/plain": [
       "(torch.Size([2, 4, 3, 4]),\n",
       " tensor([[[[1., 1., 1., 1.],\n",
       "           [1., 1., 1., 1.],\n",
       "           [1., 1., 1., 1.]],\n",
       " \n",
       "          [[1., 1., 1., 1.],\n",
       "           [1., 1., 1., 1.],\n",
       "           [1., 1., 1., 1.]],\n",
       " \n",
       "          [[3., 3., 3., 3.],\n",
       "           [3., 3., 3., 3.],\n",
       "           [3., 3., 3., 3.]],\n",
       " \n",
       "          [[3., 3., 3., 3.],\n",
       "           [3., 3., 3., 3.],\n",
       "           [3., 3., 3., 3.]]],\n",
       " \n",
       " \n",
       "         [[[1., 1., 1., 1.],\n",
       "           [1., 1., 1., 1.],\n",
       "           [1., 1., 1., 1.]],\n",
       " \n",
       "          [[1., 1., 1., 1.],\n",
       "           [1., 1., 1., 1.],\n",
       "           [1., 1., 1., 1.]],\n",
       " \n",
       "          [[3., 3., 3., 3.],\n",
       "           [3., 3., 3., 3.],\n",
       "           [3., 3., 3., 3.]],\n",
       " \n",
       "          [[3., 3., 3., 3.],\n",
       "           [3., 3., 3., 3.],\n",
       "           [3., 3., 3., 3.]]]]))"
      ]
     },
     "execution_count": 22,
     "metadata": {},
     "output_type": "execute_result"
    }
   ],
   "source": [
    "c1 = torch.cat((x, z), dim=1)\n",
    "c1.shape, c1"
   ]
  },
  {
   "cell_type": "code",
   "execution_count": 23,
   "id": "8780ccee",
   "metadata": {},
   "outputs": [
    {
     "data": {
      "text/plain": [
       "(torch.Size([2, 2, 6, 4]),\n",
       " tensor([[[[1., 1., 1., 1.],\n",
       "           [1., 1., 1., 1.],\n",
       "           [1., 1., 1., 1.],\n",
       "           [3., 3., 3., 3.],\n",
       "           [3., 3., 3., 3.],\n",
       "           [3., 3., 3., 3.]],\n",
       " \n",
       "          [[1., 1., 1., 1.],\n",
       "           [1., 1., 1., 1.],\n",
       "           [1., 1., 1., 1.],\n",
       "           [3., 3., 3., 3.],\n",
       "           [3., 3., 3., 3.],\n",
       "           [3., 3., 3., 3.]]],\n",
       " \n",
       " \n",
       "         [[[1., 1., 1., 1.],\n",
       "           [1., 1., 1., 1.],\n",
       "           [1., 1., 1., 1.],\n",
       "           [3., 3., 3., 3.],\n",
       "           [3., 3., 3., 3.],\n",
       "           [3., 3., 3., 3.]],\n",
       " \n",
       "          [[1., 1., 1., 1.],\n",
       "           [1., 1., 1., 1.],\n",
       "           [1., 1., 1., 1.],\n",
       "           [3., 3., 3., 3.],\n",
       "           [3., 3., 3., 3.],\n",
       "           [3., 3., 3., 3.]]]]))"
      ]
     },
     "execution_count": 23,
     "metadata": {},
     "output_type": "execute_result"
    }
   ],
   "source": [
    "c3 = torch.cat((x, z), dim=2)\n",
    "c3.shape, c3"
   ]
  },
  {
   "cell_type": "code",
   "execution_count": 25,
   "id": "e72c9317",
   "metadata": {},
   "outputs": [
    {
     "data": {
      "text/plain": [
       "(torch.Size([2, 2, 3, 8]),\n",
       " tensor([[[[1., 1., 1., 1., 3., 3., 3., 3.],\n",
       "           [1., 1., 1., 1., 3., 3., 3., 3.],\n",
       "           [1., 1., 1., 1., 3., 3., 3., 3.]],\n",
       " \n",
       "          [[1., 1., 1., 1., 3., 3., 3., 3.],\n",
       "           [1., 1., 1., 1., 3., 3., 3., 3.],\n",
       "           [1., 1., 1., 1., 3., 3., 3., 3.]]],\n",
       " \n",
       " \n",
       "         [[[1., 1., 1., 1., 3., 3., 3., 3.],\n",
       "           [1., 1., 1., 1., 3., 3., 3., 3.],\n",
       "           [1., 1., 1., 1., 3., 3., 3., 3.]],\n",
       " \n",
       "          [[1., 1., 1., 1., 3., 3., 3., 3.],\n",
       "           [1., 1., 1., 1., 3., 3., 3., 3.],\n",
       "           [1., 1., 1., 1., 3., 3., 3., 3.]]]]))"
      ]
     },
     "execution_count": 25,
     "metadata": {},
     "output_type": "execute_result"
    }
   ],
   "source": [
    "c4 = torch.cat((x, z), dim=3)\n",
    "c4.shape,c4"
   ]
  },
  {
   "cell_type": "code",
   "execution_count": 41,
   "id": "145a882d",
   "metadata": {},
   "outputs": [
    {
     "data": {
      "text/plain": [
       "(torch.Size([2, 2, 1, 1]),\n",
       " tensor([[[[2.]],\n",
       " \n",
       "          [[2.]]],\n",
       " \n",
       " \n",
       "         [[[2.]],\n",
       " \n",
       "          [[2.]]]]))"
      ]
     },
     "execution_count": 41,
     "metadata": {},
     "output_type": "execute_result"
    }
   ],
   "source": [
    "y0 = y.unsqueeze(2).unsqueeze(3)\n",
    "y0.size(), y0"
   ]
  },
  {
   "cell_type": "code",
   "execution_count": 42,
   "id": "72982abc",
   "metadata": {},
   "outputs": [
    {
     "data": {
      "text/plain": [
       "(torch.Size([2, 2, 3, 4]),\n",
       " tensor([[[[2., 2., 2., 2.],\n",
       "           [2., 2., 2., 2.],\n",
       "           [2., 2., 2., 2.]],\n",
       " \n",
       "          [[2., 2., 2., 2.],\n",
       "           [2., 2., 2., 2.],\n",
       "           [2., 2., 2., 2.]]],\n",
       " \n",
       " \n",
       "         [[[2., 2., 2., 2.],\n",
       "           [2., 2., 2., 2.],\n",
       "           [2., 2., 2., 2.]],\n",
       " \n",
       "          [[2., 2., 2., 2.],\n",
       "           [2., 2., 2., 2.],\n",
       "           [2., 2., 2., 2.]]]]))"
      ]
     },
     "execution_count": 42,
     "metadata": {},
     "output_type": "execute_result"
    }
   ],
   "source": [
    "y1 = y0.expand(x.shape)\n",
    "y1.shape, y1"
   ]
  },
  {
   "cell_type": "code",
   "execution_count": null,
   "id": "9a429ec5",
   "metadata": {},
   "outputs": [],
   "source": []
  }
 ],
 "metadata": {
  "kernelspec": {
   "display_name": "Python 3 (ipykernel)",
   "language": "python",
   "name": "python3"
  },
  "language_info": {
   "codemirror_mode": {
    "name": "ipython",
    "version": 3
   },
   "file_extension": ".py",
   "mimetype": "text/x-python",
   "name": "python",
   "nbconvert_exporter": "python",
   "pygments_lexer": "ipython3",
   "version": "3.10.9"
  }
 },
 "nbformat": 4,
 "nbformat_minor": 5
}
