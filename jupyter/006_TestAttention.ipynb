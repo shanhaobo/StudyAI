{
 "cells": [
  {
   "cell_type": "code",
   "execution_count": 12,
   "id": "99c19e49",
   "metadata": {},
   "outputs": [],
   "source": [
    "import sys\n",
    "sys.path.append('../')\n",
    "\n",
    "import torch\n",
    "from torch import nn\n",
    "from einops import rearrange\n",
    "from torch import einsum\n",
    "\n",
    "from Models.Moduels.Attention2D import IMultiHeadAttention2D\n",
    "from Models.Moduels.Attention import IMultiHeadAttention"
   ]
  },
  {
   "cell_type": "code",
   "execution_count": 15,
   "id": "f60f5a13",
   "metadata": {},
   "outputs": [
    {
     "name": "stdout",
     "output_type": "stream",
     "text": [
      "tensor([[[ 2, 57, 54,  8, 31],\n",
      "         [10, 43, 33, 39, 58],\n",
      "         [38, 55, 14, 47, 24],\n",
      "         [21,  0, 16, 29, 53]],\n",
      "\n",
      "        [[34, 30, 48, 22, 32],\n",
      "         [44, 41, 11, 50, 27],\n",
      "         [ 9, 40, 56, 25,  3],\n",
      "         [19,  5, 17,  6,  4]],\n",
      "\n",
      "        [[28, 51, 12, 26, 37],\n",
      "         [45, 36, 23, 46,  7],\n",
      "         [15, 35, 59, 20, 49],\n",
      "         [42,  1, 18, 13, 52]]])\n",
      "tensor([[[ 2., 57., 54.,  8., 31.],\n",
      "         [10., 43., 33., 39., 58.],\n",
      "         [38., 55., 14., 47., 24.],\n",
      "         [21.,  0., 16., 29., 53.]],\n",
      "\n",
      "        [[34., 30., 48., 22., 32.],\n",
      "         [44., 41., 11., 50., 27.],\n",
      "         [ 9., 40., 56., 25.,  3.],\n",
      "         [19.,  5., 17.,  6.,  4.]],\n",
      "\n",
      "        [[28., 51., 12., 26., 37.],\n",
      "         [45., 36., 23., 46.,  7.],\n",
      "         [15., 35., 59., 20., 49.],\n",
      "         [42.,  1., 18., 13., 52.]]])\n"
     ]
    }
   ],
   "source": [
    "# 创建一个包含0到59的列表\n",
    "values = list(range(60))\n",
    "\n",
    "# 生成一个长度为60的随机排列索引序列\n",
    "random_indices = torch.randperm(60)\n",
    "\n",
    "# 将序列重塑为 3x4x5 的形状\n",
    "random_indices = random_indices.reshape((3, 4, 5))\n",
    "print(random_indices)\n",
    "# 创建一个形状为3x4x5的张量\n",
    "tensor = torch.zeros(3, 4, 5)\n",
    "\n",
    "# 使用随机索引填充张量的元素\n",
    "for i in range(3):\n",
    "    for j in range(4):\n",
    "        for k in range(5):\n",
    "            index = random_indices[i, j, k]\n",
    "            value = values[index]\n",
    "            tensor[i, j, k] = value\n",
    "\n",
    "# 打印张量\n",
    "print(tensor)"
   ]
  },
  {
   "cell_type": "code",
   "execution_count": 16,
   "id": "d873096e",
   "metadata": {},
   "outputs": [
    {
     "ename": "ValueError",
     "evalue": "not enough values to unpack (expected 4, got 3)",
     "output_type": "error",
     "traceback": [
      "\u001b[1;31m---------------------------------------------------------------------------\u001b[0m",
      "\u001b[1;31mValueError\u001b[0m                                Traceback (most recent call last)",
      "Cell \u001b[1;32mIn[16], line 2\u001b[0m\n\u001b[0;32m      1\u001b[0m iatt \u001b[39m=\u001b[39m IMultiHeadAttention2D(\u001b[39m1\u001b[39m, \u001b[39m2\u001b[39m, \u001b[39m4\u001b[39m)\n\u001b[1;32m----> 2\u001b[0m z \u001b[39m=\u001b[39m iatt\u001b[39m.\u001b[39;49mCalcAtt(tensor)\n\u001b[0;32m      3\u001b[0m \u001b[39mprint\u001b[39m(z\u001b[39m.\u001b[39msize())\n",
      "File \u001b[1;32md:\\__DevAI__\\StudyAI\\jupyter\\..\\Models\\Moduels\\Attention2D.py:35\u001b[0m, in \u001b[0;36mIMultiHeadAttention2D.CalcAtt\u001b[1;34m(self, inX)\u001b[0m\n\u001b[0;32m     34\u001b[0m \u001b[39mdef\u001b[39;00m \u001b[39mCalcAtt\u001b[39m(\u001b[39mself\u001b[39m, inX):\n\u001b[1;32m---> 35\u001b[0m     _, _, h, w \u001b[39m=\u001b[39m inX\u001b[39m.\u001b[39msize()\n\u001b[0;32m     37\u001b[0m     Q, K, V \u001b[39m=\u001b[39m \u001b[39mself\u001b[39m\u001b[39m.\u001b[39m_ToQKV(inX)\n\u001b[0;32m     39\u001b[0m     \u001b[39m# d means embedding dim\u001b[39;00m\n\u001b[0;32m     40\u001b[0m     \u001b[39m# i j means data dim\u001b[39;00m\n\u001b[0;32m     41\u001b[0m     \u001b[39m# 其实就是将Q,K的数据组合到一起\u001b[39;00m\n",
      "\u001b[1;31mValueError\u001b[0m: not enough values to unpack (expected 4, got 3)"
     ]
    }
   ],
   "source": [
    "iatt = IMultiHeadAttention2D(1, 2, 4)\n",
    "z = iatt.CalcAtt(tensor)\n",
    "print(z.size())"
   ]
  }
 ],
 "metadata": {
  "kernelspec": {
   "display_name": "Python 3 (ipykernel)",
   "language": "python",
   "name": "python3"
  },
  "language_info": {
   "codemirror_mode": {
    "name": "ipython",
    "version": 3
   },
   "file_extension": ".py",
   "mimetype": "text/x-python",
   "name": "python",
   "nbconvert_exporter": "python",
   "pygments_lexer": "ipython3",
   "version": "3.10.0"
  }
 },
 "nbformat": 4,
 "nbformat_minor": 5
}
