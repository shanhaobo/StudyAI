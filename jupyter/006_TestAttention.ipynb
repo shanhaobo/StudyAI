{
 "cells": [
  {
   "cell_type": "code",
   "execution_count": 1,
   "id": "99c19e49",
   "metadata": {},
   "outputs": [],
   "source": [
    "import sys\n",
    "sys.path.append('../')\n",
    "\n",
    "import torch\n",
    "from torch import nn\n",
    "from einops import rearrange\n",
    "from torch import einsum\n",
    "\n",
    "from Models.Moduels.Attention2D import IMultiHeadAttention2D\n",
    "from Models.Moduels.Attention import IMultiHeadAttention"
   ]
  },
  {
   "cell_type": "code",
   "execution_count": 6,
   "id": "f60f5a13",
   "metadata": {},
   "outputs": [
    {
     "name": "stdout",
     "output_type": "stream",
     "text": [
      "tensor([[[38,  4, 51, 74, 27, 35, 20, 33],\n",
      "         [34, 26, 10, 18, 88, 29,  3, 69],\n",
      "         [55, 40, 15, 37, 77, 13, 32, 57],\n",
      "         [25, 56, 23, 62, 95, 71, 21, 65]],\n",
      "\n",
      "        [[75, 86, 41,  1, 39, 28, 81, 50],\n",
      "         [93, 43, 12, 60, 30, 66, 83, 58],\n",
      "         [68, 22, 11,  9, 49, 24, 80, 59],\n",
      "         [46, 36, 14,  7, 84, 94, 52,  8]],\n",
      "\n",
      "        [[42, 19, 76, 79, 70, 72, 67, 47],\n",
      "         [ 0, 87, 91, 54, 44, 63, 92, 82],\n",
      "         [31,  5, 89, 61, 90, 85, 64, 73],\n",
      "         [17,  6,  2, 48, 53, 78, 16, 45]]])\n",
      "tensor([[[38.,  4., 51., 74., 27.],\n",
      "         [34., 26., 10., 18., 88.],\n",
      "         [55., 40., 15., 37., 77.],\n",
      "         [25., 56., 23., 62., 95.]],\n",
      "\n",
      "        [[75., 86., 41.,  1., 39.],\n",
      "         [93., 43., 12., 60., 30.],\n",
      "         [68., 22., 11.,  9., 49.],\n",
      "         [46., 36., 14.,  7., 84.]],\n",
      "\n",
      "        [[42., 19., 76., 79., 70.],\n",
      "         [ 0., 87., 91., 54., 44.],\n",
      "         [31.,  5., 89., 61., 90.],\n",
      "         [17.,  6.,  2., 48., 53.]]])\n"
     ]
    }
   ],
   "source": [
    "datalen = 3 * 4 * 8\n",
    "\n",
    "# 创建一个包含0到59的列表\n",
    "values = list(range(datalen))\n",
    "\n",
    "# 生成一个长度为60的随机排列索引序列\n",
    "random_indices = torch.randperm(datalen)\n",
    "\n",
    "# 将序列重塑为 3x4x5 的形状\n",
    "random_indices = random_indices.reshape((3, 4, 8))\n",
    "print(random_indices)\n",
    "# 创建一个形状为3x4x5的张量\n",
    "tensor = torch.zeros(3, 4, 8)\n",
    "\n",
    "# 使用随机索引填充张量的元素\n",
    "for i in range(3):\n",
    "    for j in range(4):\n",
    "        for k in range(8):\n",
    "            index = random_indices[i, j, k]\n",
    "            value = values[index]\n",
    "            tensor[i, j, k] = value\n",
    "\n",
    "# 打印张量\n",
    "print(tensor)"
   ]
  },
  {
   "cell_type": "code",
   "execution_count": 7,
   "id": "d873096e",
   "metadata": {},
   "outputs": [
    {
     "ename": "RuntimeError",
     "evalue": "mat1 and mat2 shapes cannot be multiplied (12x5 and 8x24)",
     "output_type": "error",
     "traceback": [
      "\u001b[1;31m---------------------------------------------------------------------------\u001b[0m",
      "\u001b[1;31mRuntimeError\u001b[0m                              Traceback (most recent call last)",
      "Cell \u001b[1;32mIn[7], line 2\u001b[0m\n\u001b[0;32m      1\u001b[0m iatt \u001b[39m=\u001b[39m IMultiHeadAttention(\u001b[39m2\u001b[39m, \u001b[39m4\u001b[39m)\n\u001b[1;32m----> 2\u001b[0m z \u001b[39m=\u001b[39m iatt\u001b[39m.\u001b[39;49mCalcAtt(tensor)\n\u001b[0;32m      3\u001b[0m \u001b[39mprint\u001b[39m(z\u001b[39m.\u001b[39msize())\n",
      "File \u001b[1;32md:\\__DevAI__\\StudyAI\\jupyter\\..\\Models\\Moduels\\Attention.py:69\u001b[0m, in \u001b[0;36mIMultiHeadAttention.CalcAtt\u001b[1;34m(self, inX)\u001b[0m\n\u001b[0;32m     64\u001b[0m \u001b[39mdef\u001b[39;00m \u001b[39mCalcAtt\u001b[39m(\u001b[39mself\u001b[39m, inX):\n\u001b[0;32m     65\u001b[0m \u001b[39m    \u001b[39m\u001b[39m\"\"\"\u001b[39;00m\n\u001b[0;32m     66\u001b[0m \u001b[39m    nBatchNum, nMaxSeqLen, nEmbedDim = inX.size()\u001b[39;00m\n\u001b[0;32m     67\u001b[0m \u001b[39m    \"\"\"\u001b[39;00m\n\u001b[1;32m---> 69\u001b[0m     Q, K, V \u001b[39m=\u001b[39m \u001b[39mself\u001b[39;49m\u001b[39m.\u001b[39;49m_ToQKV(inX)\n\u001b[0;32m     71\u001b[0m     \u001b[39m# Scaled dot product attention\u001b[39;00m\n\u001b[0;32m     72\u001b[0m     \u001b[39m#Att = torch.matmul(Q, K.transpose(-1, -2)) * self._ScaledFctr\u001b[39;00m\n\u001b[0;32m     73\u001b[0m     Att \u001b[39m=\u001b[39m torch\u001b[39m.\u001b[39meinsum(\u001b[39m\"\u001b[39m\u001b[39mb h i s, b h j s -> b h i j\u001b[39m\u001b[39m\"\u001b[39m, Q, K)  \u001b[39m*\u001b[39m \u001b[39mself\u001b[39m\u001b[39m.\u001b[39m_ScaledFctr\n",
      "File \u001b[1;32md:\\__DevAI__\\StudyAI\\jupyter\\..\\Models\\Moduels\\Attention.py:27\u001b[0m, in \u001b[0;36mIMultiHeadAttention._ToQKV\u001b[1;34m(self, inX)\u001b[0m\n\u001b[0;32m     21\u001b[0m \u001b[39m\u001b[39m\u001b[39m\"\"\"\u001b[39;00m\n\u001b[0;32m     22\u001b[0m \u001b[39mnBatchNum, nMaxSeqLen, nEmbedDim = inX.size()\u001b[39;00m\n\u001b[0;32m     23\u001b[0m \u001b[39m\"\"\"\u001b[39;00m\n\u001b[0;32m     24\u001b[0m \u001b[39m# [BatchNum, MaxSeqLen, EmbedDim]->[BatchNum, NumHead, nMaxSeqLen, HeadDim]\u001b[39;00m\n\u001b[0;32m     25\u001b[0m \u001b[39m#      (B, S, E)->(B, S, 3 * E)->(B, S, E)->(B, S, H, HE)->(B, H, S, HE)\u001b[39;00m\n\u001b[0;32m     26\u001b[0m \u001b[39m# input ->   __Attlayer  ->  chunk   ->  view     ->  transpose\u001b[39;00m\n\u001b[1;32m---> 27\u001b[0m QKV \u001b[39m=\u001b[39m \u001b[39mself\u001b[39;49m\u001b[39m.\u001b[39;49m_AttLayer(inX)\n\u001b[0;32m     28\u001b[0m \u001b[39m\u001b[39m\u001b[39m\"\"\"\u001b[39;00m\n\u001b[0;32m     29\u001b[0m \u001b[39mQ, K, V = QKV.chunk(3, dim=2)\u001b[39;00m\n\u001b[0;32m     30\u001b[0m \u001b[39mprint(Q.shape)\u001b[39;00m\n\u001b[1;32m   (...)\u001b[0m\n\u001b[0;32m     35\u001b[0m \u001b[39mprint(Q.shape)\u001b[39;00m\n\u001b[0;32m     36\u001b[0m \u001b[39m\"\"\"\u001b[39;00m\n\u001b[0;32m     37\u001b[0m \u001b[39m#\"\"\"\u001b[39;00m\n\u001b[0;32m     38\u001b[0m \u001b[39m# k = 3 because q k v\u001b[39;00m\n\u001b[0;32m     39\u001b[0m \u001b[39m# (k h d) means EmbedDim = self._EmbedDim * 3\u001b[39;00m\n\u001b[0;32m     40\u001b[0m \u001b[39m# s means sequence\u001b[39;00m\n",
      "File \u001b[1;32md:\\__Sys_Conda__\\Envs\\ai\\lib\\site-packages\\torch\\nn\\modules\\module.py:1501\u001b[0m, in \u001b[0;36mModule._call_impl\u001b[1;34m(self, *args, **kwargs)\u001b[0m\n\u001b[0;32m   1496\u001b[0m \u001b[39m# If we don't have any hooks, we want to skip the rest of the logic in\u001b[39;00m\n\u001b[0;32m   1497\u001b[0m \u001b[39m# this function, and just call forward.\u001b[39;00m\n\u001b[0;32m   1498\u001b[0m \u001b[39mif\u001b[39;00m \u001b[39mnot\u001b[39;00m (\u001b[39mself\u001b[39m\u001b[39m.\u001b[39m_backward_hooks \u001b[39mor\u001b[39;00m \u001b[39mself\u001b[39m\u001b[39m.\u001b[39m_backward_pre_hooks \u001b[39mor\u001b[39;00m \u001b[39mself\u001b[39m\u001b[39m.\u001b[39m_forward_hooks \u001b[39mor\u001b[39;00m \u001b[39mself\u001b[39m\u001b[39m.\u001b[39m_forward_pre_hooks\n\u001b[0;32m   1499\u001b[0m         \u001b[39mor\u001b[39;00m _global_backward_pre_hooks \u001b[39mor\u001b[39;00m _global_backward_hooks\n\u001b[0;32m   1500\u001b[0m         \u001b[39mor\u001b[39;00m _global_forward_hooks \u001b[39mor\u001b[39;00m _global_forward_pre_hooks):\n\u001b[1;32m-> 1501\u001b[0m     \u001b[39mreturn\u001b[39;00m forward_call(\u001b[39m*\u001b[39margs, \u001b[39m*\u001b[39m\u001b[39m*\u001b[39mkwargs)\n\u001b[0;32m   1502\u001b[0m \u001b[39m# Do not call functions when jit is used\u001b[39;00m\n\u001b[0;32m   1503\u001b[0m full_backward_hooks, non_full_backward_hooks \u001b[39m=\u001b[39m [], []\n",
      "File \u001b[1;32md:\\__Sys_Conda__\\Envs\\ai\\lib\\site-packages\\torch\\nn\\modules\\linear.py:114\u001b[0m, in \u001b[0;36mLinear.forward\u001b[1;34m(self, input)\u001b[0m\n\u001b[0;32m    113\u001b[0m \u001b[39mdef\u001b[39;00m \u001b[39mforward\u001b[39m(\u001b[39mself\u001b[39m, \u001b[39minput\u001b[39m: Tensor) \u001b[39m-\u001b[39m\u001b[39m>\u001b[39m Tensor:\n\u001b[1;32m--> 114\u001b[0m     \u001b[39mreturn\u001b[39;00m F\u001b[39m.\u001b[39;49mlinear(\u001b[39minput\u001b[39;49m, \u001b[39mself\u001b[39;49m\u001b[39m.\u001b[39;49mweight, \u001b[39mself\u001b[39;49m\u001b[39m.\u001b[39;49mbias)\n",
      "\u001b[1;31mRuntimeError\u001b[0m: mat1 and mat2 shapes cannot be multiplied (12x5 and 8x24)"
     ]
    }
   ],
   "source": [
    "iatt = IMultiHeadAttention(2, 4)\n",
    "z = iatt.CalcAtt(tensor)\n",
    "print(z.size())"
   ]
  }
 ],
 "metadata": {
  "kernelspec": {
   "display_name": "Python 3 (ipykernel)",
   "language": "python",
   "name": "python3"
  },
  "language_info": {
   "codemirror_mode": {
    "name": "ipython",
    "version": 3
   },
   "file_extension": ".py",
   "mimetype": "text/x-python",
   "name": "python",
   "nbconvert_exporter": "python",
   "pygments_lexer": "ipython3",
   "version": "3.10.0"
  }
 },
 "nbformat": 4,
 "nbformat_minor": 5
}
