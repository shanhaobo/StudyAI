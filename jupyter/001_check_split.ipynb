{
 "cells": [
  {
   "cell_type": "code",
   "execution_count": 2,
   "id": "cbc94b2c",
   "metadata": {},
   "outputs": [
    {
     "data": {
      "text/plain": [
       "tensor([[[ 0.3257,  0.4166,  0.3198, -0.4368,  1.9397],\n",
       "         [ 0.1774, -1.2168, -0.0464, -0.6074,  0.3345],\n",
       "         [ 0.4140, -0.3924, -0.3448, -2.2866, -0.0033],\n",
       "         [ 0.6049, -1.4979,  0.2806, -0.9642,  0.8085]],\n",
       "\n",
       "        [[-0.3944, -0.5186,  0.5707, -0.9030,  0.1591],\n",
       "         [ 1.8268, -1.3314,  0.2680,  1.0187, -1.0157],\n",
       "         [ 0.7353,  0.6496, -1.0346,  0.7247, -0.7260],\n",
       "         [ 1.7558, -0.7640, -0.1694,  0.3263,  1.3588]],\n",
       "\n",
       "        [[ 0.3160,  0.4531, -1.6166, -0.4806,  1.4292],\n",
       "         [-0.8991, -2.0487,  1.4671,  0.4362,  0.8358],\n",
       "         [ 1.0464, -0.9916, -1.3631,  1.2615,  1.0947],\n",
       "         [ 1.2853,  0.4307,  1.4011,  0.1219, -0.2761]]])"
      ]
     },
     "execution_count": 2,
     "metadata": {},
     "output_type": "execute_result"
    }
   ],
   "source": [
    "import torch\n",
    "\n",
    "x = torch.randn(3,4,5)\n",
    "x"
   ]
  },
  {
   "cell_type": "code",
   "execution_count": 3,
   "id": "19391e2b",
   "metadata": {},
   "outputs": [
    {
     "data": {
      "text/plain": [
       "(tensor([[[ 0.3257,  0.1774],\n",
       "          [ 0.4166, -1.2168],\n",
       "          [ 0.3198, -0.0464],\n",
       "          [-0.4368, -0.6074],\n",
       "          [ 1.9397,  0.3345]],\n",
       " \n",
       "         [[-0.3944,  1.8268],\n",
       "          [-0.5186, -1.3314],\n",
       "          [ 0.5707,  0.2680],\n",
       "          [-0.9030,  1.0187],\n",
       "          [ 0.1591, -1.0157]],\n",
       " \n",
       "         [[ 0.3160, -0.8991],\n",
       "          [ 0.4531, -2.0487],\n",
       "          [-1.6166,  1.4671],\n",
       "          [-0.4806,  0.4362],\n",
       "          [ 1.4292,  0.8358]]]),\n",
       " tensor([[[ 0.4140,  0.6049],\n",
       "          [-0.3924, -1.4979],\n",
       "          [-0.3448,  0.2806],\n",
       "          [-2.2866, -0.9642],\n",
       "          [-0.0033,  0.8085]],\n",
       " \n",
       "         [[ 0.7353,  1.7558],\n",
       "          [ 0.6496, -0.7640],\n",
       "          [-1.0346, -0.1694],\n",
       "          [ 0.7247,  0.3263],\n",
       "          [-0.7260,  1.3588]],\n",
       " \n",
       "         [[ 1.0464,  1.2853],\n",
       "          [-0.9916,  0.4307],\n",
       "          [-1.3631,  1.4011],\n",
       "          [ 1.2615,  0.1219],\n",
       "          [ 1.0947, -0.2761]]]))"
      ]
     },
     "execution_count": 3,
     "metadata": {},
     "output_type": "execute_result"
    }
   ],
   "source": [
    "#先split or chunk, 再transport\n",
    "q,p = x.split(2, 1)\n",
    "q = q.transpose(1, 2)\n",
    "p = p.transpose(1, 2)\n",
    "q, p"
   ]
  },
  {
   "cell_type": "code",
   "execution_count": 11,
   "id": "25b1bd54",
   "metadata": {},
   "outputs": [
    {
     "data": {
      "text/plain": [
       "(tensor([[[ 0.3257,  0.1774],\n",
       "          [ 0.4166, -1.2168],\n",
       "          [ 0.3198, -0.0464],\n",
       "          [-0.4368, -0.6074],\n",
       "          [ 1.9397,  0.3345]],\n",
       " \n",
       "         [[-0.3944,  1.8268],\n",
       "          [-0.5186, -1.3314],\n",
       "          [ 0.5707,  0.2680],\n",
       "          [-0.9030,  1.0187],\n",
       "          [ 0.1591, -1.0157]],\n",
       " \n",
       "         [[ 0.3160, -0.8991],\n",
       "          [ 0.4531, -2.0487],\n",
       "          [-1.6166,  1.4671],\n",
       "          [-0.4806,  0.4362],\n",
       "          [ 1.4292,  0.8358]]]),\n",
       " tensor([[[ 0.4140,  0.6049],\n",
       "          [-0.3924, -1.4979],\n",
       "          [-0.3448,  0.2806],\n",
       "          [-2.2866, -0.9642],\n",
       "          [-0.0033,  0.8085]],\n",
       " \n",
       "         [[ 0.7353,  1.7558],\n",
       "          [ 0.6496, -0.7640],\n",
       "          [-1.0346, -0.1694],\n",
       "          [ 0.7247,  0.3263],\n",
       "          [-0.7260,  1.3588]],\n",
       " \n",
       "         [[ 1.0464,  1.2853],\n",
       "          [-0.9916,  0.4307],\n",
       "          [-1.3631,  1.4011],\n",
       "          [ 1.2615,  0.1219],\n",
       "          [ 1.0947, -0.2761]]]),\n",
       " True,\n",
       " True)"
      ]
     },
     "execution_count": 11,
     "metadata": {},
     "output_type": "execute_result"
    }
   ],
   "source": [
    "#先transport, 再split or chunk\n",
    "print(\"(3,4,5)->(3,5,4)->(3,5,2)\")\n",
    "i, j = x.transpose(1, 2).chunk(3, 2)\n",
    "i,j"
   ]
  },
  {
   "cell_type": "code",
   "execution_count": 16,
   "id": "683a6339",
   "metadata": {},
   "outputs": [
    {
     "data": {
      "text/plain": [
       "(True, True, False, False)"
      ]
     },
     "execution_count": 16,
     "metadata": {},
     "output_type": "execute_result"
    }
   ],
   "source": [
    "#先split or chunk, 再transport : q, p\n",
    "#先transport, 再split or chunk : i, j\n",
    "#答案都是一样的\n",
    "#但是不连续了.再transport前view\n",
    "t1= torch.allclose(i, q)\n",
    "t2 = torch.allclose(j, p)\n",
    "\n",
    "c1 = i.is_contiguous()\n",
    "c2 = q.is_contiguous()\n",
    "\n",
    "t1, t2, c1, c2"
   ]
  },
  {
   "cell_type": "code",
   "execution_count": null,
   "id": "dc323f9f",
   "metadata": {},
   "outputs": [],
   "source": []
  }
 ],
 "metadata": {
  "kernelspec": {
   "display_name": "Python 3 (ipykernel)",
   "language": "python",
   "name": "python3"
  },
  "language_info": {
   "codemirror_mode": {
    "name": "ipython",
    "version": 3
   },
   "file_extension": ".py",
   "mimetype": "text/x-python",
   "name": "python",
   "nbconvert_exporter": "python",
   "pygments_lexer": "ipython3",
   "version": "3.10.9"
  }
 },
 "nbformat": 4,
 "nbformat_minor": 5
}
