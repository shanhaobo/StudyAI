{
 "cells": [
  {
   "cell_type": "code",
   "execution_count": 1,
   "id": "cbc94b2c",
   "metadata": {},
   "outputs": [
    {
     "data": {
      "text/plain": [
       "tensor([[[-2.2209,  0.9150,  0.0870, -2.3863, -1.4002],\n",
       "         [-0.2238, -0.3708, -2.0351, -1.3360, -0.5971],\n",
       "         [ 0.4368,  1.4396, -1.6051,  0.0761, -2.2430],\n",
       "         [ 0.4615, -0.1677, -0.6475, -1.0015, -0.2180]],\n",
       "\n",
       "        [[ 1.1572, -1.0068,  2.1139, -0.0373,  0.7883],\n",
       "         [ 0.1780,  0.6052,  0.9080,  0.1725, -2.7521],\n",
       "         [ 0.6409, -0.6183, -0.9580,  1.0580,  1.6752],\n",
       "         [ 0.9612, -0.1192, -0.4618,  0.5756,  0.3785]],\n",
       "\n",
       "        [[-0.8170, -0.1676, -0.4920,  0.0927, -2.2775],\n",
       "         [ 0.4247,  0.5924,  0.9737, -1.0522, -1.4963],\n",
       "         [-0.1280, -0.6747,  0.9780, -1.1540, -0.4913],\n",
       "         [ 0.8206, -0.7445, -0.3022, -0.0460, -1.5865]]])"
      ]
     },
     "execution_count": 1,
     "metadata": {},
     "output_type": "execute_result"
    }
   ],
   "source": [
    "import torch\n",
    "\n",
    "x = torch.randn(3,4,5)\n",
    "x"
   ]
  },
  {
   "cell_type": "code",
   "execution_count": 3,
   "id": "19391e2b",
   "metadata": {},
   "outputs": [
    {
     "data": {
      "text/plain": [
       "(tensor([[[ 0.3257,  0.1774],\n",
       "          [ 0.4166, -1.2168],\n",
       "          [ 0.3198, -0.0464],\n",
       "          [-0.4368, -0.6074],\n",
       "          [ 1.9397,  0.3345]],\n",
       " \n",
       "         [[-0.3944,  1.8268],\n",
       "          [-0.5186, -1.3314],\n",
       "          [ 0.5707,  0.2680],\n",
       "          [-0.9030,  1.0187],\n",
       "          [ 0.1591, -1.0157]],\n",
       " \n",
       "         [[ 0.3160, -0.8991],\n",
       "          [ 0.4531, -2.0487],\n",
       "          [-1.6166,  1.4671],\n",
       "          [-0.4806,  0.4362],\n",
       "          [ 1.4292,  0.8358]]]),\n",
       " tensor([[[ 0.4140,  0.6049],\n",
       "          [-0.3924, -1.4979],\n",
       "          [-0.3448,  0.2806],\n",
       "          [-2.2866, -0.9642],\n",
       "          [-0.0033,  0.8085]],\n",
       " \n",
       "         [[ 0.7353,  1.7558],\n",
       "          [ 0.6496, -0.7640],\n",
       "          [-1.0346, -0.1694],\n",
       "          [ 0.7247,  0.3263],\n",
       "          [-0.7260,  1.3588]],\n",
       " \n",
       "         [[ 1.0464,  1.2853],\n",
       "          [-0.9916,  0.4307],\n",
       "          [-1.3631,  1.4011],\n",
       "          [ 1.2615,  0.1219],\n",
       "          [ 1.0947, -0.2761]]]))"
      ]
     },
     "execution_count": 3,
     "metadata": {},
     "output_type": "execute_result"
    }
   ],
   "source": [
    "#先split or chunk, 再transport\n",
    "q,p = x.split(2, 1)\n",
    "q = q.transpose(1, 2)\n",
    "p = p.transpose(1, 2)\n",
    "q, p"
   ]
  },
  {
   "cell_type": "code",
   "execution_count": 11,
   "id": "25b1bd54",
   "metadata": {},
   "outputs": [
    {
     "data": {
      "text/plain": [
       "(tensor([[[ 0.3257,  0.1774],\n",
       "          [ 0.4166, -1.2168],\n",
       "          [ 0.3198, -0.0464],\n",
       "          [-0.4368, -0.6074],\n",
       "          [ 1.9397,  0.3345]],\n",
       " \n",
       "         [[-0.3944,  1.8268],\n",
       "          [-0.5186, -1.3314],\n",
       "          [ 0.5707,  0.2680],\n",
       "          [-0.9030,  1.0187],\n",
       "          [ 0.1591, -1.0157]],\n",
       " \n",
       "         [[ 0.3160, -0.8991],\n",
       "          [ 0.4531, -2.0487],\n",
       "          [-1.6166,  1.4671],\n",
       "          [-0.4806,  0.4362],\n",
       "          [ 1.4292,  0.8358]]]),\n",
       " tensor([[[ 0.4140,  0.6049],\n",
       "          [-0.3924, -1.4979],\n",
       "          [-0.3448,  0.2806],\n",
       "          [-2.2866, -0.9642],\n",
       "          [-0.0033,  0.8085]],\n",
       " \n",
       "         [[ 0.7353,  1.7558],\n",
       "          [ 0.6496, -0.7640],\n",
       "          [-1.0346, -0.1694],\n",
       "          [ 0.7247,  0.3263],\n",
       "          [-0.7260,  1.3588]],\n",
       " \n",
       "         [[ 1.0464,  1.2853],\n",
       "          [-0.9916,  0.4307],\n",
       "          [-1.3631,  1.4011],\n",
       "          [ 1.2615,  0.1219],\n",
       "          [ 1.0947, -0.2761]]]),\n",
       " True,\n",
       " True)"
      ]
     },
     "execution_count": 11,
     "metadata": {},
     "output_type": "execute_result"
    }
   ],
   "source": [
    "#先transport, 再split or chunk\n",
    "print(\"(3,4,5)->(3,5,4)->(3,5,2)\")\n",
    "i, j = x.transpose(1, 2).chunk(3, 2)\n",
    "i,j"
   ]
  },
  {
   "cell_type": "code",
   "execution_count": 16,
   "id": "683a6339",
   "metadata": {},
   "outputs": [
    {
     "data": {
      "text/plain": [
       "(True, True, False, False)"
      ]
     },
     "execution_count": 16,
     "metadata": {},
     "output_type": "execute_result"
    }
   ],
   "source": [
    "#先split or chunk, 再transport : q, p\n",
    "#先transport, 再split or chunk : i, j\n",
    "#答案都是一样的\n",
    "#但是不连续了.再transport前view\n",
    "t1= torch.allclose(i, q)\n",
    "t2 = torch.allclose(j, p)\n",
    "\n",
    "c1 = i.is_contiguous()\n",
    "c2 = q.is_contiguous()\n",
    "\n",
    "t1, t2, c1, c2"
   ]
  },
  {
   "cell_type": "code",
   "execution_count": 2,
   "id": "dc323f9f",
   "metadata": {},
   "outputs": [],
   "source": [
    "x = torch.randn(3,4,5)"
   ]
  },
  {
   "cell_type": "code",
   "execution_count": 3,
   "id": "bed7c801",
   "metadata": {},
   "outputs": [
    {
     "name": "stdout",
     "output_type": "stream",
     "text": [
      "tensor([[[-2.2878e-01,  3.6689e-01,  5.3427e-01,  8.2137e-01,  7.3907e-01],\n",
      "         [ 3.3671e-01, -5.8381e-01, -1.0123e+00, -2.4320e-01, -3.6292e-01],\n",
      "         [ 1.3893e+00, -1.3449e+00, -8.8119e-02,  6.4827e-01, -8.0323e-01],\n",
      "         [-3.4065e-01, -7.1189e-01,  1.4884e-01,  1.0788e+00,  7.3027e-01]],\n",
      "\n",
      "        [[-8.2296e-01,  1.4358e+00, -9.0874e-01, -1.3011e-01, -1.7783e+00],\n",
      "         [ 6.9172e-01,  1.2776e+00, -7.8644e-01,  1.0212e+00,  4.0324e-01],\n",
      "         [-2.1293e+00, -5.7741e-01, -1.1442e+00,  9.4692e-01, -1.7378e+00],\n",
      "         [ 1.3357e+00,  1.7039e+00,  4.1743e-01,  3.4863e-01, -6.1009e-01]],\n",
      "\n",
      "        [[-2.1727e+00, -3.5979e-01,  5.6001e-04, -3.6029e-01,  7.3889e-01],\n",
      "         [-4.8556e-01, -1.1420e-01, -1.6857e-01, -1.5829e+00, -6.3946e-02],\n",
      "         [-1.3727e-01, -1.7110e+00,  2.2690e-02, -1.1913e-01,  8.6144e-01],\n",
      "         [ 8.0983e-01, -3.2492e-01,  4.7587e-01,  1.2831e-01, -5.5445e-01]]])\n"
     ]
    }
   ],
   "source": [
    "print(x)"
   ]
  },
  {
   "cell_type": "code",
   "execution_count": 4,
   "id": "cfb0b731",
   "metadata": {},
   "outputs": [
    {
     "data": {
      "text/plain": [
       "tensor([[ 1.3893,  0.3669,  0.5343,  1.0788,  0.7391],\n",
       "        [ 1.3357,  1.7039,  0.4174,  1.0212,  0.4032],\n",
       "        [ 0.8098, -0.1142,  0.4759,  0.1283,  0.8614]])"
      ]
     },
     "execution_count": 4,
     "metadata": {},
     "output_type": "execute_result"
    }
   ],
   "source": [
    "torch.amax(x, 1)"
   ]
  },
  {
   "cell_type": "code",
   "execution_count": 5,
   "id": "2b153368",
   "metadata": {},
   "outputs": [
    {
     "data": {
      "text/plain": [
       "tensor([[-0.2288,  1.4358,  0.5343,  0.8214,  0.7391],\n",
       "        [ 0.6917,  1.2776, -0.1686,  1.0212,  0.4032],\n",
       "        [ 1.3893, -0.5774,  0.0227,  0.9469,  0.8614],\n",
       "        [ 1.3357,  1.7039,  0.4759,  1.0788,  0.7303]])"
      ]
     },
     "execution_count": 5,
     "metadata": {},
     "output_type": "execute_result"
    }
   ],
   "source": [
    "torch.amax(x, 0)"
   ]
  },
  {
   "cell_type": "code",
   "execution_count": 6,
   "id": "cb0fee02",
   "metadata": {},
   "outputs": [
    {
     "data": {
      "text/plain": [
       "tensor([[ 0.8214,  0.3367,  1.3893,  1.0788],\n",
       "        [ 1.4358,  1.2776,  0.9469,  1.7039],\n",
       "        [ 0.7389, -0.0639,  0.8614,  0.8098]])"
      ]
     },
     "execution_count": 6,
     "metadata": {},
     "output_type": "execute_result"
    }
   ],
   "source": [
    "torch.amax(x, 2)"
   ]
  },
  {
   "cell_type": "code",
   "execution_count": 7,
   "id": "a941f8d6",
   "metadata": {},
   "outputs": [],
   "source": [
    "# 创建一个 3x4x5 的张量\n",
    "tensor = torch.zeros(3, 4, 5)\n",
    "\n",
    "# 使用 PyTorch 的 arange 函数生成从 0 到 59 的序列\n",
    "sequence = torch.arange(60)\n",
    "\n",
    "# 将序列重塑为 3x4x5 的形状\n",
    "sequence = sequence.reshape((3, 4, 5))\n",
    "\n",
    "# 将张量的值设置为序列的值\n",
    "tensor[:] = sequence[:]"
   ]
  },
  {
   "cell_type": "code",
   "execution_count": 8,
   "id": "71170cd9",
   "metadata": {},
   "outputs": [
    {
     "name": "stdout",
     "output_type": "stream",
     "text": [
      "tensor([[[ 0.,  1.,  2.,  3.,  4.],\n",
      "         [ 5.,  6.,  7.,  8.,  9.],\n",
      "         [10., 11., 12., 13., 14.],\n",
      "         [15., 16., 17., 18., 19.]],\n",
      "\n",
      "        [[20., 21., 22., 23., 24.],\n",
      "         [25., 26., 27., 28., 29.],\n",
      "         [30., 31., 32., 33., 34.],\n",
      "         [35., 36., 37., 38., 39.]],\n",
      "\n",
      "        [[40., 41., 42., 43., 44.],\n",
      "         [45., 46., 47., 48., 49.],\n",
      "         [50., 51., 52., 53., 54.],\n",
      "         [55., 56., 57., 58., 59.]]])\n"
     ]
    }
   ],
   "source": [
    "print(tensor)"
   ]
  },
  {
   "cell_type": "code",
   "execution_count": 10,
   "id": "39e1dd15",
   "metadata": {},
   "outputs": [
    {
     "data": {
      "text/plain": [
       "tensor([[40., 41., 42., 43., 44.],\n",
       "        [45., 46., 47., 48., 49.],\n",
       "        [50., 51., 52., 53., 54.],\n",
       "        [55., 56., 57., 58., 59.]])"
      ]
     },
     "execution_count": 10,
     "metadata": {},
     "output_type": "execute_result"
    }
   ],
   "source": [
    "torch.amax(tensor, 0)"
   ]
  },
  {
   "cell_type": "code",
   "execution_count": 12,
   "id": "29be7554",
   "metadata": {},
   "outputs": [
    {
     "data": {
      "text/plain": [
       "tensor([[15., 16., 17., 18., 19.],\n",
       "        [35., 36., 37., 38., 39.],\n",
       "        [55., 56., 57., 58., 59.]])"
      ]
     },
     "execution_count": 12,
     "metadata": {},
     "output_type": "execute_result"
    }
   ],
   "source": [
    "torch.amax(tensor, 1)"
   ]
  },
  {
   "cell_type": "code",
   "execution_count": 13,
   "id": "adc1f8ea",
   "metadata": {},
   "outputs": [
    {
     "data": {
      "text/plain": [
       "tensor([[ 4.,  9., 14., 19.],\n",
       "        [24., 29., 34., 39.],\n",
       "        [44., 49., 54., 59.]])"
      ]
     },
     "execution_count": 13,
     "metadata": {},
     "output_type": "execute_result"
    }
   ],
   "source": [
    "torch.amax(tensor, 2)"
   ]
  },
  {
   "cell_type": "code",
   "execution_count": null,
   "id": "18487fde",
   "metadata": {},
   "outputs": [],
   "source": []
  }
 ],
 "metadata": {
  "kernelspec": {
   "display_name": "Python 3 (ipykernel)",
   "language": "python",
   "name": "python3"
  },
  "language_info": {
   "codemirror_mode": {
    "name": "ipython",
    "version": 3
   },
   "file_extension": ".py",
   "mimetype": "text/x-python",
   "name": "python",
   "nbconvert_exporter": "python",
   "pygments_lexer": "ipython3",
   "version": "3.10.9"
  }
 },
 "nbformat": 4,
 "nbformat_minor": 5
}
